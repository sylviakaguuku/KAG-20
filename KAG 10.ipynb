{
 "cells": [
  {
   "cell_type": "code",
   "execution_count": null,
   "metadata": {},
   "outputs": [],
   "source": []
  },
  {
   "cell_type": "code",
   "execution_count": null,
   "metadata": {},
   "outputs": [],
   "source": []
  },
  {
   "cell_type": "code",
   "execution_count": null,
   "metadata": {},
   "outputs": [],
   "source": []
  },
  {
   "cell_type": "code",
   "execution_count": null,
   "metadata": {},
   "outputs": [],
   "source": []
  },
  {
   "cell_type": "code",
   "execution_count": 6,
   "metadata": {},
   "outputs": [
    {
     "ename": "SyntaxError",
     "evalue": "(unicode error) 'unicodeescape' codec can't decode bytes in position 2-3: truncated \\UXXXXXXXX escape (2360373437.py, line 6)",
     "output_type": "error",
     "traceback": [
      "\u001b[1;36m  Cell \u001b[1;32mIn[6], line 6\u001b[1;36m\u001b[0m\n\u001b[1;33m    print(\"C:\\Users\\hpuse\\OneDrive\\Documents:\", path)\u001b[0m\n\u001b[1;37m          ^\u001b[0m\n\u001b[1;31mSyntaxError\u001b[0m\u001b[1;31m:\u001b[0m (unicode error) 'unicodeescape' codec can't decode bytes in position 2-3: truncated \\UXXXXXXXX escape\n"
     ]
    }
   ],
   "source": [
    "import kagglehub\n",
    "\n",
    "# Download latest version\n",
    "path = kagglehub.dataset_download(\"prokshitha/home-value-insights\")\n",
    "\n",
    "print(\"C:\\Users\\hpuse\\OneDrive\\Documents:\", path)"
   ]
  },
  {
   "cell_type": "code",
   "execution_count": null,
   "metadata": {},
   "outputs": [],
   "source": []
  },
  {
   "cell_type": "code",
   "execution_count": 1,
   "metadata": {},
   "outputs": [
    {
     "name": "stdout",
     "output_type": "stream",
     "text": [
      "hello world\n"
     ]
    }
   ],
   "source": [
    "print('hello world')"
   ]
  },
  {
   "cell_type": "code",
   "execution_count": 14,
   "metadata": {},
   "outputs": [
    {
     "name": "stdout",
     "output_type": "stream",
     "text": [
      "fiveisgreaterthantwo!\n"
     ]
    }
   ],
   "source": [
    "if 5>2:\n",
    "    print (\"fiveisgreaterthantwo!\")"
   ]
  },
  {
   "cell_type": "code",
   "execution_count": 9,
   "metadata": {},
   "outputs": [
    {
     "name": "stdout",
     "output_type": "stream",
     "text": [
      "<class 'complex'>\n",
      "<class 'complex'>\n",
      "<class 'complex'>\n"
     ]
    }
   ],
   "source": [
    "x= 14.58j\n",
    "y=3565222.55488711j\n",
    "z=55673897632j\n",
    "\n",
    "print(type(x))\n",
    "print(type(y))\n",
    "print(type(z))"
   ]
  },
  {
   "cell_type": "code",
   "execution_count": 18,
   "metadata": {},
   "outputs": [
    {
     "name": "stdout",
     "output_type": "stream",
     "text": [
      "hello\n"
     ]
    }
   ],
   "source": [
    " \n",
    " print (\"hello\")"
   ]
  },
  {
   "cell_type": "code",
   "execution_count": 19,
   "metadata": {},
   "outputs": [
    {
     "name": "stdout",
     "output_type": "stream",
     "text": [
      "14\n"
     ]
    }
   ],
   "source": [
    "a=\"sylvia kaguuku\"\n",
    "print(len(a))"
   ]
  },
  {
   "cell_type": "code",
   "execution_count": 24,
   "metadata": {},
   "outputs": [
    {
     "name": "stdout",
     "output_type": "stream",
     "text": [
      "llo\n"
     ]
    }
   ],
   "source": [
    "b=\"hello,world\"\n",
    "S=b[2:5]\n",
    "print(S)"
   ]
  },
  {
   "cell_type": "code",
   "execution_count": 27,
   "metadata": {},
   "outputs": [
    {
     "name": "stdout",
     "output_type": "stream",
     "text": [
      "llo,world\n"
     ]
    }
   ],
   "source": [
    "b=\"hello,world\"\n",
    "print(b[2:])"
   ]
  },
  {
   "cell_type": "code",
   "execution_count": 29,
   "metadata": {},
   "outputs": [
    {
     "name": "stdout",
     "output_type": "stream",
     "text": [
      "hello,world\n"
     ]
    }
   ],
   "source": [
    "a=\"hello,world\"\n",
    "B=a.lower()\n",
    "print(B)"
   ]
  },
  {
   "cell_type": "code",
   "execution_count": 30,
   "metadata": {},
   "outputs": [
    {
     "name": "stdout",
     "output_type": "stream",
     "text": [
      "jello,world\n"
     ]
    }
   ],
   "source": [
    "a=\"hello,world\"\n",
    "B=a.replace(\"h\",\"j\")\n",
    "print(B)"
   ]
  },
  {
   "cell_type": "code",
   "execution_count": 33,
   "metadata": {},
   "outputs": [
    {
     "name": "stdout",
     "output_type": "stream",
     "text": [
      "sylviakaguuku\n"
     ]
    }
   ],
   "source": [
    "a=(\"sylvia\")\n",
    "b=(\"kaguuku\")\n",
    "c=(a+b)\n",
    "print(c)"
   ]
  },
  {
   "cell_type": "code",
   "execution_count": 42,
   "metadata": {},
   "outputs": [
    {
     "name": "stdout",
     "output_type": "stream",
     "text": [
      "my name is johnny and i am45\n"
     ]
    }
   ],
   "source": [
    "age= 45\n",
    "txt= \"my name is johnny and i am{}\"\n",
    "D=txt.format(age)\n",
    "print (D)\n"
   ]
  },
  {
   "cell_type": "code",
   "execution_count": 45,
   "metadata": {},
   "outputs": [
    {
     "name": "stdout",
     "output_type": "stream",
     "text": [
      "i want 3 pieces of items 567 for 49.99 dollars\n"
     ]
    }
   ],
   "source": [
    "quantity=3\n",
    "itemno=567\n",
    "price=49.99\n",
    "myorder=\"i want {} pieces of items {} for {} dollars\"\n",
    "print(myorder.format(quantity,itemno,price))"
   ]
  },
  {
   "cell_type": "code",
   "execution_count": 23,
   "metadata": {},
   "outputs": [
    {
     "name": "stdout",
     "output_type": "stream",
     "text": [
      "1\n",
      "2\n",
      "3\n",
      "4\n",
      "5\n",
      "6\n",
      "[1, 2, 3, 4, 5, 6, 7]\n",
      "[3, 4, 5]\n",
      "[2, 3, 4, 5, 6]\n",
      "[2]\n",
      "[3]\n",
      "[]\n",
      "6\n",
      "5\n",
      "[1, 2, 3, 4, 5]\n",
      "[]\n"
     ]
    }
   ],
   "source": [
    "list =[1,2,3,4,5,6,7]\n",
    "print(list[0])\n",
    "print(list[1])\n",
    "print(list[2])\n",
    "print(list[3])\n",
    "print(list[4])\n",
    "print(list[5])\n",
    "print(list[:])\n",
    "print(list[2:5])\n",
    "print(list[1:6])\n",
    "print(list[1:3:7])\n",
    "print(list[2:6:7])\n",
    "print(list[-3:-6])\n",
    "\n",
    "list=[1,2,3,4,5,6]\n",
    "print(list[-1])\n",
    "print(list[-2])\n",
    "print(list[:-1])\n",
    "print(list[-3:-4])\n",
    "\n"
   ]
  },
  {
   "cell_type": "code",
   "execution_count": 28,
   "metadata": {},
   "outputs": [
    {
     "name": "stdout",
     "output_type": "stream",
     "text": [
      "[1, 2, 3, 4, 5, 6]\n",
      "[1, 2, 10, 4, 5, 6]\n"
     ]
    }
   ],
   "source": [
    "list= [1,2,3,4,5,6]\n",
    "print(list)\n",
    "\n",
    "list[2]=10\n",
    "print(list)\n",
    "4"
   ]
  },
  {
   "cell_type": "code",
   "execution_count": 31,
   "metadata": {},
   "outputs": [
    {
     "name": "stdout",
     "output_type": "stream",
     "text": [
      "['blue', 'pink', 'green', 'yellow', 'orange']\n"
     ]
    }
   ],
   "source": [
    "thislist=[\"blue\",\"pink\",\"green\",\"yellow\"]\n",
    "thislist.append(\"orange\")\n",
    "print(thislist)"
   ]
  },
  {
   "cell_type": "code",
   "execution_count": 32,
   "metadata": {},
   "outputs": [
    {
     "name": "stdout",
     "output_type": "stream",
     "text": [
      "['blue', 'pink', 'orange', 'green', 'yellow']\n"
     ]
    }
   ],
   "source": [
    "thislist=[\"blue\",\"pink\",\"green\",\"yellow\"]\n",
    "thislist.insert(2,'orange')\n",
    "print(thislist)"
   ]
  },
  {
   "cell_type": "code",
   "execution_count": 6,
   "metadata": {},
   "outputs": [
    {
     "name": "stdout",
     "output_type": "stream",
     "text": [
      "('apple', 'banana', 'cherry', 'cow', 'maize', 'fish', 'maize')\n",
      "7\n",
      "('cherry', 'cow', 'maize', 'fish', 'maize')\n"
     ]
    }
   ],
   "source": [
    "thistuple=('apple','banana','cherry','cow','maize','fish','maize')\n",
    "print(thistuple)\n",
    "print(len(thistuple))\n",
    "print(thistuple[2:])\n"
   ]
  },
  {
   "cell_type": "code",
   "execution_count": 7,
   "metadata": {},
   "outputs": [
    {
     "name": "stdout",
     "output_type": "stream",
     "text": [
      "('apple', 'kiwi', 'cherry', 'cow', 'maize', 'fish', 'maize')\n"
     ]
    }
   ],
   "source": [
    "x=('apple','banana','cherry','cow','maize','fish','maize')\n",
    "y=list(x)\n",
    "y[1]='kiwi'\n",
    "x=tuple(y)\n",
    "print(x)"
   ]
  },
  {
   "cell_type": "code",
   "execution_count": 23,
   "metadata": {},
   "outputs": [],
   "source": [
    "\n",
    "thistuple=(\"maize\",\"cow\",\"bean\")\n",
    "y=list(thistuple)\n",
    "y.remove(\"cow\")\n",
    "thistuple = tuple(y)"
   ]
  },
  {
   "cell_type": "code",
   "execution_count": 24,
   "metadata": {},
   "outputs": [
    {
     "name": "stdout",
     "output_type": "stream",
     "text": [
      "{'leg', 'pig', 'banana', 'mango'}\n"
     ]
    }
   ],
   "source": [
    "set={'banana','pig','leg','mango'}\n",
    "print(set)"
   ]
  },
  {
   "cell_type": "code",
   "execution_count": 31,
   "metadata": {},
   "outputs": [
    {
     "name": "stdout",
     "output_type": "stream",
     "text": [
      "{1, 2, 3, 4, 'pig', 'leg', 'banana', 'false', 'mango', 'true'}\n"
     ]
    }
   ],
   "source": [
    "set={'banana','pig','pig','leg','mango',1,1,2,3,4,'true','false'}\n",
    "print(set)"
   ]
  },
  {
   "cell_type": "code",
   "execution_count": 32,
   "metadata": {},
   "outputs": [
    {
     "name": "stdout",
     "output_type": "stream",
     "text": [
      "1\n",
      "2\n",
      "3\n",
      "4\n",
      "pig\n",
      "leg\n",
      "banana\n",
      "false\n",
      "mango\n",
      "true\n"
     ]
    }
   ],
   "source": [
    "set={'banana','pig','pig','leg','mango',1,1,2,3,4,'true','false'}\n",
    "for x in set:\n",
    "    print(x)"
   ]
  },
  {
   "cell_type": "code",
   "execution_count": 35,
   "metadata": {},
   "outputs": [
    {
     "name": "stdout",
     "output_type": "stream",
     "text": [
      "{1, 2, 3, 4, 'pig', 'leg', 'banana', 'false', 'mango', 'true', 'mellon'}\n",
      "{1, 2, 3, 4, 'cow', 'pig', 'leg', 'apple', 'cherry', 'banana', 'false', 'fish', 'mango', 'true', 'maize', 'mellon'}\n"
     ]
    }
   ],
   "source": [
    "set={'banana','pig','pig','leg','mango',1,1,2,3,4,'true','false'}\n",
    "set.add('mellon')\n",
    "print(set)\n",
    "x={'apple','banana','cherry','cow','maize','fish','maize'}\n",
    "set.update(x)\n",
    "print(set)\n"
   ]
  },
  {
   "cell_type": "code",
   "execution_count": null,
   "metadata": {},
   "outputs": [],
   "source": []
  },
  {
   "cell_type": "code",
   "execution_count": 1,
   "metadata": {},
   "outputs": [
    {
     "name": "stdout",
     "output_type": "stream",
     "text": [
      "('maize', 'cow', 'bean', 'pig')\n"
     ]
    }
   ],
   "source": [
    "thistuple=(\"maize\",\"cow\",\"bean\")\n",
    "y=('pig',)\n",
    "thistuple += y\n",
    "print(thistuple)\n"
   ]
  },
  {
   "cell_type": "code",
   "execution_count": 9,
   "metadata": {},
   "outputs": [
    {
     "ename": "IndentationError",
     "evalue": "expected an indented block after 'while' statement on line 2 (995813558.py, line 3)",
     "output_type": "error",
     "traceback": [
      "\u001b[1;36m  Cell \u001b[1;32mIn[9], line 3\u001b[1;36m\u001b[0m\n\u001b[1;33m    print(i)\u001b[0m\n\u001b[1;37m    ^\u001b[0m\n\u001b[1;31mIndentationError\u001b[0m\u001b[1;31m:\u001b[0m expected an indented block after 'while' statement on line 2\n"
     ]
    }
   ],
   "source": [
    "i =1\n",
    "while i<6\n",
    "print(i)\n",
    "i+=1\n",
    "else:\n",
    "    print(\"i is no longer less than 6\")"
   ]
  },
  {
   "cell_type": "code",
   "execution_count": 20,
   "metadata": {},
   "outputs": [
    {
     "ename": "IndentationError",
     "evalue": "expected an indented block after 'if' statement on line 5 (2414354412.py, line 6)",
     "output_type": "error",
     "traceback": [
      "\u001b[1;36m  Cell \u001b[1;32mIn[20], line 6\u001b[1;36m\u001b[0m\n\u001b[1;33m    print(\"found successfully\",list[i])\u001b[0m\n\u001b[1;37m    ^\u001b[0m\n\u001b[1;31mIndentationError\u001b[0m\u001b[1;31m:\u001b[0m expected an indented block after 'if' statement on line 5\n"
     ]
    }
   ],
   "source": [
    "list=[4,2,3,6,7]\n",
    "s=5\n",
    "i=0\n",
    "while i <len(list):\n",
    "    if list[i]==S:\n",
    "    print(\"found successfully\",list[i])\n",
    "    break\n",
    "i +=1\n",
    "else:\n",
    "print(\"no match\")"
   ]
  },
  {
   "cell_type": "code",
   "execution_count": 22,
   "metadata": {},
   "outputs": [
    {
     "name": "stdout",
     "output_type": "stream",
     "text": [
      "apple\n",
      "mangoe\n",
      "peach\n"
     ]
    }
   ],
   "source": [
    "fruits=[\"apple\",\"mangoe\",\"peach\"]\n",
    "for x in fruits:\n",
    "    print(x)"
   ]
  },
  {
   "cell_type": "code",
   "execution_count": 27,
   "metadata": {},
   "outputs": [
    {
     "ename": "IndentationError",
     "evalue": "expected an indented block after 'if' statement on line 4 (1892079059.py, line 5)",
     "output_type": "error",
     "traceback": [
      "\u001b[1;36m  Cell \u001b[1;32mIn[27], line 5\u001b[1;36m\u001b[0m\n\u001b[1;33m    break\u001b[0m\n\u001b[1;37m    ^\u001b[0m\n\u001b[1;31mIndentationError\u001b[0m\u001b[1;31m:\u001b[0m expected an indented block after 'if' statement on line 4\n"
     ]
    }
   ],
   "source": [
    "fruits=[\"apple\",\"mangoe\",\"peach\"]\n",
    "for x in fruits:\n",
    "    print(x)\n",
    "    if x==\"peach\":\n",
    "    break"
   ]
  },
  {
   "cell_type": "code",
   "execution_count": 31,
   "metadata": {},
   "outputs": [
    {
     "ename": "IndentationError",
     "evalue": "expected an indented block after 'if' statement on line 4 (623970340.py, line 5)",
     "output_type": "error",
     "traceback": [
      "\u001b[1;36m  Cell \u001b[1;32mIn[31], line 5\u001b[1;36m\u001b[0m\n\u001b[1;33m    continue\u001b[0m\n\u001b[1;37m    ^\u001b[0m\n\u001b[1;31mIndentationError\u001b[0m\u001b[1;31m:\u001b[0m expected an indented block after 'if' statement on line 4\n"
     ]
    }
   ],
   "source": [
    "fruits=[\"apple\",\"mangoe\",\"peach\"]\n",
    "for x in fruits:\n",
    "    print(x)\n",
    "    if x==\"apple\":\n",
    "    continue\n",
    "print(x)"
   ]
  },
  {
   "cell_type": "code",
   "execution_count": 37,
   "metadata": {},
   "outputs": [
    {
     "ename": "IndentationError",
     "evalue": "expected an indented block after 'for' statement on line 1 (588627882.py, line 2)",
     "output_type": "error",
     "traceback": [
      "\u001b[1;36m  Cell \u001b[1;32mIn[37], line 2\u001b[1;36m\u001b[0m\n\u001b[1;33m    print(x)\u001b[0m\n\u001b[1;37m    ^\u001b[0m\n\u001b[1;31mIndentationError\u001b[0m\u001b[1;31m:\u001b[0m expected an indented block after 'for' statement on line 1\n"
     ]
    }
   ],
   "source": [
    "for x in range (2,5,30):\n",
    "print(x)"
   ]
  },
  {
   "cell_type": "code",
   "execution_count": 38,
   "metadata": {},
   "outputs": [
    {
     "name": "stdout",
     "output_type": "stream",
     "text": [
      "red maize\n",
      "red cow\n",
      "red beans\n",
      "pink maize\n",
      "pink cow\n",
      "pink beans\n",
      "tasty maize\n",
      "tasty cow\n",
      "tasty beans\n"
     ]
    }
   ],
   "source": [
    "adj=['red','pink','tasty']\n",
    "fruits=['maize','cow','beans']\n",
    "for x in adj:\n",
    "    for y in fruits:\n",
    "        print(x,y)"
   ]
  },
  {
   "cell_type": "code",
   "execution_count": 46,
   "metadata": {},
   "outputs": [
    {
     "name": "stdout",
     "output_type": "stream",
     "text": [
      "welcone\n"
     ]
    }
   ],
   "source": [
    "# a simple function\n",
    "def fun():\n",
    "    print('welcone')\n",
    "    #driver code to call a function\n",
    "fun()\n"
   ]
  },
  {
   "cell_type": "code",
   "execution_count": 68,
   "metadata": {},
   "outputs": [
    {
     "name": "stdout",
     "output_type": "stream",
     "text": [
      "odd\n"
     ]
    }
   ],
   "source": [
    "def evenodd(x=10):\n",
    "    if(x%2==0):\n",
    "        print('even')\n",
    "    else:\n",
    "         print('odd')\n",
    "evenodd(5)"
   ]
  },
  {
   "cell_type": "code",
   "execution_count": 69,
   "metadata": {},
   "outputs": [
    {
     "name": "stdout",
     "output_type": "stream",
     "text": [
      "4\n",
      "16\n"
     ]
    }
   ],
   "source": [
    "def square_value(num):\n",
    "    \n",
    "    return num**2\n",
    "print(square_value(2))\n",
    "print(square_value(-4))\n",
    "\n"
   ]
  },
  {
   "cell_type": "code",
   "execution_count": 70,
   "metadata": {},
   "outputs": [
    {
     "name": "stdout",
     "output_type": "stream",
     "text": [
      "apple\n",
      "banana\n",
      "kei\n"
     ]
    }
   ],
   "source": [
    "def my_function(food):\n",
    "    for x in food:\n",
    "        print(x)\n",
    "        \n",
    "fruits=['apple','banana','kei']\n",
    "my_function(fruits)        "
   ]
  },
  {
   "cell_type": "code",
   "execution_count": 6,
   "metadata": {},
   "outputs": [],
   "source": [
    "def max_of_three(m,n,o):\n",
    "    return max(m, n, o)\n",
    "\n",
    "def test_max_of_three():\n",
    "    assert max_of_three(3, 7, 5) == 7, \"Test case 1 failed\"\n",
    "    assert max_of_three(10, 10, 5) == 10, \"Test case 2 failed\"\n",
    "    print(\"All test cases for max_of_three passed!\")"
   ]
  },
  {
   "cell_type": "code",
   "execution_count": null,
   "metadata": {},
   "outputs": [],
   "source": []
  },
  {
   "cell_type": "markdown",
   "metadata": {},
   "source": [
    "def is_palindrome(s):\n",
    "    return s == s[::-1]\n",
    "\n",
    "def test_is_palindrome():\n",
    "    assert is_palindrome(\"racecar\") == True, \"Test case 1 failed\"\n",
    "    assert is_palindrome(\"hello\") == False, \"Test case 2 failed\"\n",
    "    print(\"All test cases for is_palindrome passed!\")"
   ]
  },
  {
   "cell_type": "code",
   "execution_count": 2,
   "metadata": {},
   "outputs": [],
   "source": [
    "def is_palindrome(s):\n",
    "    return s == s[::-1]\n",
    "\n",
    "def test_is_palindrome():\n",
    "    assert is_palindrome(\"racecar\") == True, \"Test case 1 failed\"\n",
    "    assert is_palindrome(\"hello\") == False, \"Test case 2 failed\"\n",
    "    print(\"All test cases for is_palindrome passed!\")"
   ]
  },
  {
   "cell_type": "code",
   "execution_count": null,
   "metadata": {},
   "outputs": [],
   "source": []
  },
  {
   "cell_type": "code",
   "execution_count": 4,
   "metadata": {},
   "outputs": [
    {
     "name": "stdout",
     "output_type": "stream",
     "text": [
      "my name is skaguuku maiinaaa\n",
      "\n"
     ]
    }
   ],
   "source": [
    "file1=open(\"victor.txt\")\n",
    "print(file1.read())"
   ]
  },
  {
   "cell_type": "code",
   "execution_count": 20,
   "metadata": {},
   "outputs": [
    {
     "data": {
      "text/plain": [
       "18"
      ]
     },
     "execution_count": 20,
     "metadata": {},
     "output_type": "execute_result"
    }
   ],
   "source": [
    "file1=open(\"victor.txt\",\"a\")\n",
    "\n",
    "file1.write(\"\\n writting to file\")\n",
    "\n"
   ]
  },
  {
   "cell_type": "code",
   "execution_count": null,
   "metadata": {},
   "outputs": [],
   "source": []
  },
  {
   "cell_type": "code",
   "execution_count": 23,
   "metadata": {},
   "outputs": [
    {
     "name": "stdout",
     "output_type": "stream",
     "text": [
      "my \n"
     ]
    }
   ],
   "source": [
    "f=open(\"victor.txt\",\"r\")\n",
    "print(f.read(3))"
   ]
  },
  {
   "cell_type": "code",
   "execution_count": 44,
   "metadata": {},
   "outputs": [],
   "source": [
    "import csv\n",
    "with open('exell.csv','w',newline='') as csvfile:\n",
    "    fieldnames = ('name','age','GPA','major','height')\n",
    "    writer=csv.DictWriter(csvfile,fieldnames =fieldnames)\n",
    "    writer.writeheader()\n",
    "    writer.writerow({'name':'kimani','age':12,'GPA':3.5,'major':'softwareE','height':5.12})\n",
    "    \n",
    "    \n",
    "    "
   ]
  },
  {
   "cell_type": "code",
   "execution_count": 56,
   "metadata": {},
   "outputs": [
    {
     "name": "stdout",
     "output_type": "stream",
     "text": [
      "GPA\n",
      "3.5\n"
     ]
    }
   ],
   "source": [
    "import csv\n",
    "f=open(\"exell.csv\")\n",
    "csv_f=csv.reader(f)\n",
    "for row in csv_f :\n",
    "    print(row[2])"
   ]
  },
  {
   "cell_type": "code",
   "execution_count": 1,
   "metadata": {},
   "outputs": [
    {
     "name": "stdout",
     "output_type": "stream",
     "text": [
      "job,1,92,Distinction\n",
      "maina,2,76,Merit\n",
      "paul,3,65,Pass\n",
      "David,4,48,Fail\n",
      "kimani,5,88,Distinction\n"
     ]
    }
   ],
   "source": [
    "# Data File Creation and Writing\n",
    "def create_students_file():\n",
    "    with open(\"students.txt\", \"w\") as file:\n",
    "        file.write(\"job,1,92\\n\")\n",
    "        file.write(\"maina,2,76\\n\")\n",
    "        file.write(\"paul,3,65\\n\")\n",
    "        file.write(\"David,4,48\\n\")\n",
    "        file.write(\"kimani,5,88\\n\")\n",
    "\n",
    "# Reading and Processing Data\n",
    "def process_students_file():\n",
    "    with open(\"students.txt\", \"r\") as file:\n",
    "        students = file.readlines()\n",
    "\n",
    "    total_marks = 0\n",
    "    student_count = len(students)\n",
    "    remarks = []\n",
    "\n",
    "    for student in students:\n",
    "        name, roll_number, marks = student.strip().split(\",\")\n",
    "        marks = int(marks)\n",
    "        total_marks += marks\n",
    "\n",
    "        if marks >= 85:\n",
    "            remark = \"Distinction\"\n",
    "        elif marks >= 70:\n",
    "            remark = \"Merit\"\n",
    "        elif marks >= 50:\n",
    "            remark = \"Pass\"\n",
    "        else:\n",
    "            remark = \"Fail\"\n",
    "\n",
    "        remarks.append(f\"{name},{roll_number},{marks},{remark}\")\n",
    "\n",
    "    average_marks = total_marks / student_count\n",
    "\n",
    "    for remark in remarks:\n",
    "        print(remark)\n",
    "\n",
    "    return remarks, average_marks\n",
    "\n",
    "# Updating the File with Remarks\n",
    "def update_students_file(remarks):\n",
    "    with open(\"students.txt\", \"w\") as file:\n",
    "        for remark in remarks:\n",
    "            file.write(remark + \"\\n\")\n",
    "\n",
    "# Bonus Task: Writing Summary File\n",
    "def write_summary_file(student_count, remarks, average_marks):\n",
    "    distinction_count = sum(1 for remark in remarks if \"Distinction\" in remark)\n",
    "    merit_count = sum(1 for remark in remarks if \"Merit\" in remark)\n",
    "    pass_count = sum(1 for remark in remarks if \"Pass\" in remark)\n",
    "    fail_count = sum(1 for remark in remarks if \"Fail\" in remark)\n",
    "\n",
    "    with open(\"summary.txt\", \"w\") as file:\n",
    "        file.write(f\"Total Students: {student_count}\\n\")\n",
    "        file.write(f\"Distinction: {distinction_count}\\n\")\n",
    "        file.write(f\"Merit: {merit_count}\\n\")\n",
    "        file.write(f\"Pass: {pass_count}\\n\")\n",
    "        file.write(f\"Fail: {fail_count}\\n\")\n",
    "        file.write(f\"Average Marks: {average_marks:.2f}\\n\")\n",
    "\n",
    "# Main Function\n",
    "def main():\n",
    "    create_students_file()\n",
    "    remarks, average_marks = process_students_file()\n",
    "    update_students_file(remarks)\n",
    "    write_summary_file(len(remarks), remarks, average_marks)\n",
    "\n",
    "if __name__ == \"__main__\":\n",
    "    main()\n"
   ]
  }
 ],
 "metadata": {
  "kernelspec": {
   "display_name": "Python 3",
   "language": "python",
   "name": "python3"
  },
  "language_info": {
   "codemirror_mode": {
    "name": "ipython",
    "version": 3
   },
   "file_extension": ".py",
   "mimetype": "text/x-python",
   "name": "python",
   "nbconvert_exporter": "python",
   "pygments_lexer": "ipython3",
   "version": "3.12.4"
  }
 },
 "nbformat": 4,
 "nbformat_minor": 2
}
